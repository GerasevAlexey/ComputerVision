{
 "cells": [
  {
   "cell_type": "code",
   "execution_count": 5,
   "metadata": {},
   "outputs": [],
   "source": [
    "import os\n",
    "import cv2\n",
    "import numpy\n",
    "from matplotlib import pyplot as plt\n",
    "import math"
   ]
  },
  {
   "cell_type": "code",
   "execution_count": 8,
   "metadata": {},
   "outputs": [
    {
     "name": "stdout",
     "output_type": "stream",
     "text": [
      "process 1.jpg\n",
      "process 10.jpg\n",
      "process 11.jpg\n",
      "process 12.jpg\n",
      "process 13.jpg\n",
      "process 14.jpg\n",
      "process 15.jpg\n",
      "process 16.jpg\n",
      "process 17.jpg\n",
      "process 18.jpg\n",
      "process 19.jpg\n",
      "process 2.jpg\n",
      "process 20.jpg\n",
      "process 21.jpg\n",
      "process 22.jpg\n",
      "process 23.jpg\n",
      "process 24.jpg\n",
      "process 25.jpg\n",
      "process 3.jpg\n",
      "process 4.jpg\n",
      "process 5.jpg\n",
      "process 6.jpg\n",
      "process 7.jpg\n",
      "process 8.jpg\n",
      "process 9.jpg\n"
     ]
    },
    {
     "data": {
      "text/plain": [
       "[[2.0,\n",
       "  0.47,\n",
       "  0.2999999999999998,\n",
       "  0.1299999999999999,\n",
       "  -0.040000000000000036,\n",
       "  -0.20999999999999996,\n",
       "  -0.38000000000000034,\n",
       "  -0.5500000000000003,\n",
       "  -0.7200000000000002,\n",
       "  -0.8900000000000001,\n",
       "  -1.06,\n",
       "  1.83,\n",
       "  -1.2300000000000004,\n",
       "  -1.4000000000000004,\n",
       "  -1.5700000000000003,\n",
       "  -1.7400000000000002,\n",
       "  -1.9100000000000001,\n",
       "  -2.08,\n",
       "  1.66,\n",
       "  1.49,\n",
       "  1.3199999999999998,\n",
       "  1.15,\n",
       "  0.98,\n",
       "  0.8099999999999998,\n",
       "  0.6399999999999999],\n",
       " [5.459857953671549,\n",
       "  5.041397374594354,\n",
       "  4.957239606481374,\n",
       "  4.856211743584417,\n",
       "  4.737190209384261,\n",
       "  4.603123159990267,\n",
       "  4.458992178695164,\n",
       "  4.281034637231355,\n",
       "  4.100294696456717,\n",
       "  3.918451960714036,\n",
       "  3.7361869037368223,\n",
       "  5.43509374551982,\n",
       "  3.552888638545385,\n",
       "  3.369528271921507,\n",
       "  3.1870432655950407,\n",
       "  3.0043676256622796,\n",
       "  2.823943465261419,\n",
       "  2.646560299176935,\n",
       "  5.405224354523678,\n",
       "  5.370096943134273,\n",
       "  5.329647210430473,\n",
       "  5.283856656463737,\n",
       "  5.232818969729073,\n",
       "  5.176025303038243,\n",
       "  5.112973892285766]]"
      ]
     },
     "execution_count": 8,
     "metadata": {},
     "output_type": "execute_result"
    }
   ],
   "source": [
    "left_bound = 600\n",
    "right_bound = 2500\n",
    "bottom_bound = 300\n",
    "top_bound = 1500\n",
    "data_dir = '1/'\n",
    "ev = []\n",
    "startv = 2.0\n",
    "cur_ev = 2.17\n",
    "avg_brightness = []\n",
    "\n",
    "def get_average_brightness(img, left_bound, right_bound, bottom_bound, top_bound):\n",
    "  if right_bound < left_bound or top_bound < bottom_bound:\n",
    "    raise Exception('Wrong bounds!')\n",
    "  gray_image = cv2.cvtColor(img, cv2.COLOR_BGR2GRAY)\n",
    "  cropped_image = gray_image[bottom_bound:top_bound, left_bound:right_bound]\n",
    "  h, w = cropped_image.shape\n",
    "  denom = h * w\n",
    "  nom = 0\n",
    "  for i in range(h):\n",
    "    for k in range(w):\n",
    "      nom += cropped_image[i, k]\n",
    "  return nom / denom\n",
    "\n",
    "for filename in os.listdir(data_dir):\n",
    "  print(f'process {filename}')\n",
    "\n",
    "  cur_ev = startv - (0.17 * ((int)(filename.split('.')[0]) - 1))\n",
    "  ev.append(cur_ev)\n",
    "  image = cv2.imread(data_dir + filename)\n",
    "  avg_brightness.append(math.log(get_average_brightness(image, left_bound, right_bound, bottom_bound, top_bound)))\n",
    "\n",
    "[ev, avg_brightness]"
   ]
  },
  {
   "cell_type": "code",
   "execution_count": 9,
   "metadata": {},
   "outputs": [
    {
     "data": {
      "image/png": "[encoded data removed]",
      "text/plain": [
       "<Figure size 640x480 with 1 Axes>"
      ]
     },
     "metadata": {},
     "output_type": "display_data"
    }
   ],
   "source": [
    "\n",
    "\n",
    "plt.scatter(ev,avg_brightness)\n",
    "plt.xlabel('EV')\n",
    "plt.ylabel('Log(Avg brightness)')\n",
    "plt.grid()"
   ]
  }
 ],
 "metadata": {
  "kernelspec": {
   "display_name": "Python 3",
   "language": "python",
   "name": "python3"
  },
  "language_info": {
   "codemirror_mode": {
    "name": "ipython",
    "version": 3
   },
   "file_extension": ".py",
   "mimetype": "text/x-python",
   "name": "python",
   "nbconvert_exporter": "python",
   "pygments_lexer": "ipython3",
   "version": "3.11.2"
  },
  "orig_nbformat": 4
 },
 "nbformat": 4,
 "nbformat_minor": 2
}
