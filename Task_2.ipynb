{
 "cells": [
  {
   "cell_type": "code",
   "execution_count": 3,
   "metadata": {},
   "outputs": [],
   "source": [
    "import os\n",
    "import cv2\n",
    "import numpy as np\n",
    "from matplotlib import pyplot as plt\n",
    "from skimage import img_as_float"
   ]
  },
  {
   "cell_type": "code",
   "execution_count": 10,
   "metadata": {},
   "outputs": [],
   "source": [
    "def modify_saturation(image_name, ratio=1.2):\n",
    "  print('Saturation Start')\n",
    "  bgr_image = cv2.imread(image_name, 1)\n",
    "  lab_image = cv2.cvtColor(bgr_image, cv2.COLOR_BGR2LAB)\n",
    "  l = np.array(lab_image[:, :, 0], np.float32)\n",
    "  a = np.array(lab_image[:, :, 1], np.float32)\n",
    "  b = np.array(lab_image[:, :, 2], np.float32)\n",
    "  h, w = a.shape\n",
    "  for i in range(h):\n",
    "    for k in range(w):\n",
    "      a[i, k] = min(255, a[i, k] * ratio)\n",
    "  h, w = b.shape\n",
    "  for i in range(h):\n",
    "    for k in range(w):\n",
    "      b[i, k] = min(255, b[i, k] * ratio)\n",
    "  res = cv2.merge([l, a, b])\n",
    "  res = cv2.cvtColor(res.astype('uint8'), cv2.COLOR_LAB2BGR)\n",
    "  cv2.imwrite(image_name + '_saturation'+ '_' + str(ratio) + '.jpg',res)\n",
    "  print('Saturation Complete')"
   ]
  },
  {
   "cell_type": "code",
   "execution_count": 11,
   "metadata": {},
   "outputs": [],
   "source": [
    "def modify_brightness(image_name, delta=50):\n",
    "  print('Brightness Start')\n",
    "  image = cv2.imread(image_name, 1)\n",
    "  lab_image = cv2.cvtColor(image, cv2.COLOR_BGR2LAB)\n",
    "  l = np.array(lab_image[:, :, 0], np.float32)\n",
    "  h, w = l.shape\n",
    "  for i in range(h):\n",
    "    for k in range(w):\n",
    "      l[i, k] = min(255, l[i, k] + delta)\n",
    "  a = np.array(lab_image[:, :, 1], np.float32)\n",
    "  b = np.array(lab_image[:, :, 2], np.float32)\n",
    "  res = cv2.merge([l, a, b])\n",
    "  res = cv2.cvtColor(res.astype('uint8'), cv2.COLOR_LAB2BGR)\n",
    "  cv2.imwrite(image_name + '_brightness'+ '_' + str(delta) + '.jpg', res)\n",
    "  print('Brightness Complete')"
   ]
  },
  {
   "cell_type": "code",
   "execution_count": 14,
   "metadata": {},
   "outputs": [
    {
     "name": "stdout",
     "output_type": "stream",
     "text": [
      "Saturation Start\n",
      "Saturation Complete\n",
      "Brightness Start\n",
      "Brightness Complete\n"
     ]
    }
   ],
   "source": [
    "curpath = os.getcwd()\n",
    "img = f'{curpath}//2//1.jpg'\n",
    "modify_saturation(img, 1.7)\n",
    "img = f'{curpath}//2//2.jpg'\n",
    "modify_brightness(img, 120)"
   ]
  }
 ],
 "metadata": {
  "kernelspec": {
   "display_name": "Python 3",
   "language": "python",
   "name": "python3"
  },
  "language_info": {
   "codemirror_mode": {
    "name": "ipython",
    "version": 3
   },
   "file_extension": ".py",
   "mimetype": "text/x-python",
   "name": "python",
   "nbconvert_exporter": "python",
   "pygments_lexer": "ipython3",
   "version": "3.11.2"
  },
  "orig_nbformat": 4
 },
 "nbformat": 4,
 "nbformat_minor": 2
}
